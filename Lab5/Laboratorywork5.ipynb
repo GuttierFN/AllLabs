{
 "cells": [
  {
   "cell_type": "code",
   "execution_count": 9,
   "id": "82e0f890-912d-4b3c-9aa6-25cff725323b",
   "metadata": {},
   "outputs": [
    {
     "name": "stdout",
     "output_type": "stream",
     "text": [
      "Название книги: Путешествие, автор: Лукьяненко, год: 2018\n"
     ]
    }
   ],
   "source": [
    "# Задание 1\n",
    "class Book:\n",
    "    def __init__(self,t,a,y):\n",
    "        self.title=t\n",
    "        self.author=a\n",
    "        self.year=y\n",
    "    def get_info(self):\n",
    "        return f'Название книги: {self.title}, автор: {self.author}, год: {self.year}'\n",
    "\n",
    "\n",
    "b=Book('Путешествие','Лукьяненко','2018')\n",
    "print(b.get_info())\n",
    "\n",
    "#b=Book('Книга1','автор1','год1')\n",
    "#s=b.get_info()\n",
    "#print(s)"
   ]
  },
  {
   "cell_type": "code",
   "execution_count": 5,
   "id": "02d836a3-baec-48f8-a13f-d68c1d981909",
   "metadata": {},
   "outputs": [
    {
     "name": "stdout",
     "output_type": "stream",
     "text": [
      "10\n",
      "12\n"
     ]
    }
   ],
   "source": [
    "# Задание 2\n",
    "class Circle:\n",
    "    def __init__(self,r):\n",
    "        self.radius=r\n",
    "    def get_radius(self):\n",
    "        return self.radius\n",
    "    def set_radius(self,nr):\n",
    "        self.radius=nr\n",
    "\n",
    "c=Circle(10)\n",
    "print(c.get_radius())\n",
    "c.radius=12\n",
    "print(c.radius)"
   ]
  },
  {
   "cell_type": "code",
   "execution_count": null,
   "id": "97da63e7-0e63-48d8-8fe1-12fb5eb24a9d",
   "metadata": {},
   "outputs": [],
   "source": []
  }
 ],
 "metadata": {
  "kernelspec": {
   "display_name": "Python 3 (ipykernel)",
   "language": "python",
   "name": "python3"
  },
  "language_info": {
   "codemirror_mode": {
    "name": "ipython",
    "version": 3
   },
   "file_extension": ".py",
   "mimetype": "text/x-python",
   "name": "python",
   "nbconvert_exporter": "python",
   "pygments_lexer": "ipython3",
   "version": "3.12.4"
  }
 },
 "nbformat": 4,
 "nbformat_minor": 5
}
