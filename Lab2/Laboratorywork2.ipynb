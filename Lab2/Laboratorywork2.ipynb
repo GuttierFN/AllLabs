{
 "cells": [
  {
   "cell_type": "code",
   "execution_count": 1,
   "id": "3bf32be2-8a2a-4c87-9d31-6e17736e5453",
   "metadata": {},
   "outputs": [
    {
     "data": {
      "text/plain": [
       "'Привет, Alex.'"
      ]
     },
     "execution_count": 1,
     "metadata": {},
     "output_type": "execute_result"
    }
   ],
   "source": [
    "def greet(name):\n",
    "    return (f'Привет, {name}.')\n",
    "greet('Alex')"
   ]
  },
  {
   "cell_type": "code",
   "execution_count": 3,
   "id": "f32314d4-3c70-4f9a-b740-f704ff008ffd",
   "metadata": {},
   "outputs": [
    {
     "name": "stdin",
     "output_type": "stream",
     "text": [
      "Введите число:  25\n"
     ]
    },
    {
     "data": {
      "text/plain": [
       "625"
      ]
     },
     "execution_count": 3,
     "metadata": {},
     "output_type": "execute_result"
    }
   ],
   "source": [
    "n=int(input('Введите число: '))\n",
    "def square(n):\n",
    "    return n**2\n",
    "square(n)"
   ]
  },
  {
   "cell_type": "code",
   "execution_count": 5,
   "id": "c98bfdc5-92e9-4a9e-afd5-6c5eb39428f6",
   "metadata": {},
   "outputs": [
    {
     "name": "stdin",
     "output_type": "stream",
     "text": [
      "Введите число:  18\n",
      "Введите число:  25\n"
     ]
    },
    {
     "data": {
      "text/plain": [
       "25"
      ]
     },
     "execution_count": 5,
     "metadata": {},
     "output_type": "execute_result"
    }
   ],
   "source": [
    "x=int(input('Введите число: '))\n",
    "y=int(input('Введите число: '))\n",
    "def max_of_two(x,y):\n",
    "    return max(x,y)\n",
    "max_of_two(x,y)"
   ]
  },
  {
   "cell_type": "code",
   "execution_count": 9,
   "id": "9d2f3c0e-2d55-4525-9f06-9401d3714351",
   "metadata": {},
   "outputs": [
    {
     "data": {
      "text/plain": [
       "'Alex 30'"
      ]
     },
     "execution_count": 9,
     "metadata": {},
     "output_type": "execute_result"
    }
   ],
   "source": [
    "def describe_person(name, age=30):\n",
    "    return (f'{name}'+ f' {age}')\n",
    "describe_person('Alex')"
   ]
  },
  {
   "cell_type": "code",
   "execution_count": 11,
   "id": "747902f6-b254-44e2-88c5-4f986aa55ba6",
   "metadata": {},
   "outputs": [
    {
     "name": "stdin",
     "output_type": "stream",
     "text": [
      "Введите число:  18\n"
     ]
    },
    {
     "data": {
      "text/plain": [
       "False"
      ]
     },
     "execution_count": 11,
     "metadata": {},
     "output_type": "execute_result"
    }
   ],
   "source": [
    "n=int(input('Введите число: '))\n",
    "def is_prime(n):\n",
    "    if n<=1:\n",
    "        return False\n",
    "    for i in range(2,int(n**0.5)+1):\n",
    "        if n%i==0:\n",
    "            return False\n",
    "    return True\n",
    "is_prime(n)"
   ]
  },
  {
   "cell_type": "code",
   "execution_count": null,
   "id": "f2228717-393c-409e-8af7-bc55acf1cd2c",
   "metadata": {},
   "outputs": [],
   "source": []
  }
 ],
 "metadata": {
  "kernelspec": {
   "display_name": "Python 3 (ipykernel)",
   "language": "python",
   "name": "python3"
  },
  "language_info": {
   "codemirror_mode": {
    "name": "ipython",
    "version": 3
   },
   "file_extension": ".py",
   "mimetype": "text/x-python",
   "name": "python",
   "nbconvert_exporter": "python",
   "pygments_lexer": "ipython3",
   "version": "3.12.4"
  }
 },
 "nbformat": 4,
 "nbformat_minor": 5
}
