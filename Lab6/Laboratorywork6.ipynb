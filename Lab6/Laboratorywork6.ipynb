{
 "cells": [
  {
   "cell_type": "code",
   "execution_count": 15,
   "id": "f034aa31-dbeb-44b4-8214-f5cf637242f1",
   "metadata": {},
   "outputs": [
    {
     "name": "stdout",
     "output_type": "stream",
     "text": [
      "Пароль верный.\n"
     ]
    }
   ],
   "source": [
    "# Задание 1\n",
    "class UserAccount:\n",
    "    def __init__(self, username, email, password):\n",
    "        self.username=username\n",
    "        self.email=email\n",
    "        self.password=password\n",
    "    def set_password(self, new_password):\n",
    "        self.password==new_password\n",
    "    def check_password(self, password):\n",
    "        if self.password==password:\n",
    "            return True\n",
    "        else:\n",
    "            return False\n",
    "\n",
    "\n",
    "user = UserAccount(\"GuttierFN\", \"alexgc191205@gmail.com\", \"1234ABCD\")\n",
    "user.set_password(\"1234ABCD\")\n",
    "if user.check_password(\"1234ABCD\"):\n",
    "    print(\"Пароль верный.\")\n",
    "else:\n",
    "    print(\"Пароль неверный.\")"
   ]
  },
  {
   "cell_type": "code",
   "execution_count": 3,
   "id": "4a0c23a6-29f7-4ec4-b749-1e64c815872d",
   "metadata": {},
   "outputs": [
    {
     "name": "stdout",
     "output_type": "stream",
     "text": [
      "Марка: Nissan, Модель: Skyline, Топливо: 97\n"
     ]
    }
   ],
   "source": [
    "# Задание 2\n",
    "class Vehicle:\n",
    "    def __init__(self, make, model):\n",
    "        self.make = make\n",
    "        self.model = model\n",
    "    def get_info(self):\n",
    "        return f'Марка: {self.make}, Модель: {self.model}'\n",
    "class Car(Vehicle):\n",
    "    def __init__(self, make, model, fuel_type):\n",
    "        super().__init__(make, model)\n",
    "        self.fuel_type = fuel_type\n",
    "    def get_info(self):\n",
    "        return f'Марка: {self.make}, Модель: {self.model}, Топливо: {self.fuel_type}'\n",
    "\n",
    "\n",
    "c=Car('Nissan', 'Skyline', '97')\n",
    "print(c.get_info())"
   ]
  },
  {
   "cell_type": "code",
   "execution_count": null,
   "id": "c51bc4f8-a24d-4ae2-a35b-81c6a4ca3837",
   "metadata": {},
   "outputs": [],
   "source": []
  }
 ],
 "metadata": {
  "kernelspec": {
   "display_name": "Python 3 (ipykernel)",
   "language": "python",
   "name": "python3"
  },
  "language_info": {
   "codemirror_mode": {
    "name": "ipython",
    "version": 3
   },
   "file_extension": ".py",
   "mimetype": "text/x-python",
   "name": "python",
   "nbconvert_exporter": "python",
   "pygments_lexer": "ipython3",
   "version": "3.12.4"
  }
 },
 "nbformat": 4,
 "nbformat_minor": 5
}
