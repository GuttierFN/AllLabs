{
 "cells": [
  {
   "cell_type": "code",
   "execution_count": 35,
   "id": "b3131b33-820e-49a5-a960-457f1eb2a12c",
   "metadata": {},
   "outputs": [
    {
     "name": "stdout",
     "output_type": "stream",
     "text": [
      "Good morning. I like to play basketball.\n",
      "My name is Alex. I like to play computer games.\n",
      "I am from Balashikha. I like ironing.\n",
      "I am 18 years old. I like coding.dggggggg\n",
      "ggggggggggg\n",
      "gggggggggggg\n",
      "gggggg\n",
      "ggggggg\n",
      "gggggggggtrtrtrt\n",
      "\n"
     ]
    }
   ],
   "source": [
    "with open('C:/Users/HonorUSER/Desktop/example.txt', 'r') as t:\n",
    "    n=t.read()\n",
    "    print(n)"
   ]
  },
  {
   "cell_type": "code",
   "execution_count": 29,
   "id": "02d21377-412d-420b-8cb6-44e065f683f4",
   "metadata": {},
   "outputs": [
    {
     "name": "stdout",
     "output_type": "stream",
     "text": [
      "Good morning. I like to play basketball.\n",
      "My name is Alex. I like to play computer games.\n",
      "I am from Balashikha. I like ironing.\n",
      "I am 18 years old. I like coding.dggggggg\n",
      "ggggggggggg\n",
      "gggggggggggg\n",
      "gggggg\n"
     ]
    }
   ],
   "source": [
    "with open('C:/Users/HonorUSER/Desktop/example.txt', 'r') as t:\n",
    "    for line in t:\n",
    "        print(line.strip())"
   ]
  },
  {
   "cell_type": "code",
   "execution_count": 33,
   "id": "34202a96-7dad-428d-811d-f345a58c9c19",
   "metadata": {},
   "outputs": [
    {
     "name": "stdin",
     "output_type": "stream",
     "text": [
      "sllslslsl gggggggggtrtrtrt\n"
     ]
    }
   ],
   "source": [
    "with open('C:/Users/HonorUSER/Desktop/example.txt', 'a+') as t:\n",
    "    p=input('sllslslsl')\n",
    "    t.write(p+'\\n')\n",
    "    t.seek(0)\n",
    "    t.read()"
   ]
  },
  {
   "cell_type": "code",
   "execution_count": 67,
   "id": "8d8610ac-ec1b-4854-8276-d38922961502",
   "metadata": {},
   "outputs": [
    {
     "name": "stdout",
     "output_type": "stream",
     "text": [
      "Good morning. I like to play basketball.\n",
      "My name is Alex. I like to play computer games.\n",
      "I am from Balashikha. I like ironing.\n",
      "I am 18 years old. I like coding.dggggggg\n",
      "ggggggggggg\n",
      "gggggggggggg\n",
      "gggggg\n",
      "ggggggg\n",
      "gggggggggtrtrtrt\n",
      "Ошибка. Функция не доступна.\n"
     ]
    }
   ],
   "source": [
    "#'1'-файл полностью\n",
    "#'2'-файл построчно\n",
    "def read_file(filename,p=''):\n",
    "    try:\n",
    "        with open('C:/Users/HonorUSER/Desktop/example.txt', 'r') as t:\n",
    "            if p=='1':\n",
    "                print(t.read())\n",
    "            elif p=='2':\n",
    "                for line in t:\n",
    "                    print(line.strip())\n",
    "    except FileNotFoundError:\n",
    "        print('Такой файл не найден.')\n",
    "    else:\n",
    "                print('Ошибка. Функция не доступна.')\n",
    "read_file('C:/Users/HonorUSER/Desktop/example.txt','2')"
   ]
  },
  {
   "cell_type": "code",
   "execution_count": null,
   "id": "6ef53634-5e7a-453b-93cb-81f74a9d825d",
   "metadata": {},
   "outputs": [],
   "source": []
  },
  {
   "cell_type": "code",
   "execution_count": null,
   "id": "ad39e113-1f90-4ef2-bcdf-4a8876e278c6",
   "metadata": {},
   "outputs": [],
   "source": []
  },
  {
   "cell_type": "code",
   "execution_count": null,
   "id": "0ee0d923-5d08-4638-9f08-dada15f3f984",
   "metadata": {},
   "outputs": [],
   "source": []
  }
 ],
 "metadata": {
  "kernelspec": {
   "display_name": "Python 3 (ipykernel)",
   "language": "python",
   "name": "python3"
  },
  "language_info": {
   "codemirror_mode": {
    "name": "ipython",
    "version": 3
   },
   "file_extension": ".py",
   "mimetype": "text/x-python",
   "name": "python",
   "nbconvert_exporter": "python",
   "pygments_lexer": "ipython3",
   "version": "3.12.4"
  }
 },
 "nbformat": 4,
 "nbformat_minor": 5
}
