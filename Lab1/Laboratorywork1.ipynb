{
 "cells": [
  {
   "cell_type": "code",
   "execution_count": null,
   "id": "0826feaa-3a77-4c4d-a9c3-cd9ce1eef3c5",
   "metadata": {},
   "outputs": [],
   "source": [
    "a = int(input(\"Введите число>>\"))\n",
    "print(*[i for i in range(1, a + 1)])\n",
    "a = int(input(\"Введите число>>\"))\n",
    "for i in range(1, a+1):\n",
    "    print(i)\n",
    "\n",
    "a, b = int(input(\"Введите первое число>>\")), int(input(\"Введите второе число>>\"))\n",
    "print(max(a,b), \"<< Это самое большое число\")"
   ]
  }
 ],
 "metadata": {
  "kernelspec": {
   "display_name": "Python 3 (ipykernel)",
   "language": "python",
   "name": "python3"
  },
  "language_info": {
   "codemirror_mode": {
    "name": "ipython",
    "version": 3
   },
   "file_extension": ".py",
   "mimetype": "text/x-python",
   "name": "python",
   "nbconvert_exporter": "python",
   "pygments_lexer": "ipython3",
   "version": "3.12.4"
  }
 },
 "nbformat": 4,
 "nbformat_minor": 5
}
