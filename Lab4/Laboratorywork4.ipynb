{
 "cells": [
  {
   "cell_type": "code",
   "execution_count": 5,
   "id": "6d561023-5b70-4081-b244-87a3e167dd6f",
   "metadata": {},
   "outputs": [
    {
     "name": "stdin",
     "output_type": "stream",
     "text": [
      " 25\n"
     ]
    },
    {
     "name": "stdout",
     "output_type": "stream",
     "text": [
      "5.0\n"
     ]
    }
   ],
   "source": [
    "# Задание 1.1\n",
    "import math\n",
    "n=int(input())\n",
    "p=math.sqrt(n)\n",
    "print(p)"
   ]
  },
  {
   "cell_type": "code",
   "execution_count": 7,
   "id": "3552727a-1f12-494f-9a41-5104456e2e2f",
   "metadata": {},
   "outputs": [
    {
     "name": "stdout",
     "output_type": "stream",
     "text": [
      "2024-10-25 15:26:07.288633\n"
     ]
    }
   ],
   "source": [
    "# Задание 1.2\n",
    "import datetime\n",
    "p=datetime.datetime.now()\n",
    "print(p)"
   ]
  },
  {
   "cell_type": "code",
   "execution_count": 9,
   "id": "01d4c44b-67e5-4262-ac02-82cee861963d",
   "metadata": {},
   "outputs": [
    {
     "name": "stdout",
     "output_type": "stream",
     "text": [
      "84\n"
     ]
    }
   ],
   "source": [
    "# Задание 2\n",
    "import my_module\n",
    "p=my_module.two_numbers(36,48)\n",
    "print(p)"
   ]
  },
  {
   "cell_type": "code",
   "execution_count": 11,
   "id": "9d16ddd8-0f23-419d-b861-6231a7807284",
   "metadata": {},
   "outputs": [
    {
     "name": "stdout",
     "output_type": "stream",
     "text": [
      "55\n",
      "40\n",
      "Привет, Alex!\n",
      "ЭТО ЛАБА НОМЕР ЧЕТЫРЕ\n"
     ]
    }
   ],
   "source": [
    "# Задание 3\n",
    "from my_package import math_operations\n",
    "from my_package import rus_operations\n",
    "\n",
    "p=math_operations.summa(19, 36)\n",
    "n=math_operations.multiply(5, 8)\n",
    "print(p)\n",
    "print(n)\n",
    "\n",
    "k=rus_operations.greet(\"Alex\")\n",
    "m=rus_operations.big(\"Это лаба номер четыре\")\n",
    "print(k)\n",
    "print(m)"
   ]
  },
  {
   "cell_type": "code",
   "execution_count": null,
   "id": "709608a8-3e32-4f80-97cf-96cf7b09f9c7",
   "metadata": {},
   "outputs": [],
   "source": []
  }
 ],
 "metadata": {
  "kernelspec": {
   "display_name": "Python 3 (ipykernel)",
   "language": "python",
   "name": "python3"
  },
  "language_info": {
   "codemirror_mode": {
    "name": "ipython",
    "version": 3
   },
   "file_extension": ".py",
   "mimetype": "text/x-python",
   "name": "python",
   "nbconvert_exporter": "python",
   "pygments_lexer": "ipython3",
   "version": "3.12.4"
  }
 },
 "nbformat": 4,
 "nbformat_minor": 5
}
