{
 "cells": [
  {
   "cell_type": "code",
   "execution_count": 15,
   "id": "e31aa168-9a94-45d1-9f41-985d0a28d34b",
   "metadata": {},
   "outputs": [
    {
     "name": "stdout",
     "output_type": "stream",
     "text": [
      "Имя: Александр, Идентификационный номер: 1\n",
      "Имя: Максим, Идентификационный номер: 2, Отдел: Информационные технологии\n",
      "Имя: Варя, Идентификационный номер: 3, Специализация: Разработчик ПО\n",
      "Имя: Алекс\n",
      "Имя: Максим, Идентификационный номер: 2\n",
      "Имя: Варя, Идентификационный номер: 3\n"
     ]
    }
   ],
   "source": [
    "class Employee:\n",
    "    def __init__(self, name, id):\n",
    "        self.name = name\n",
    "        self.id = id\n",
    "    def get_info(self):\n",
    "        return f'Имя: {self.name}, Идентификационный номер: {self.id}'\n",
    "        \n",
    "class Manager(Employee):\n",
    "    def __init__(self, name, id, department):\n",
    "        super().__init__(name, id)\n",
    "        self.department = department\n",
    "    def manage_project(self):\n",
    "        return f'Имя: {self.name}, Идентификационный номер: {self.id}, Отдел: {self.department}'\n",
    "\n",
    "class Technician(Employee):\n",
    "    def __init__(self, name, id, specialization):\n",
    "        super().__init__(name, id)\n",
    "        self.specialization = specialization\n",
    "    def perform_maintenance(self):\n",
    "        return f'Имя: {self.name}, Идентификационный номер: {self.id}, Специализация: {self.specialization}'\n",
    "\n",
    "class TechManager(Manager, Technician):\n",
    "    def __init__(self, name, id, department, specialization):\n",
    "        Manager.__init__(self, name, id, department)\n",
    "    def __init__(self, name, id, department, specialization):\n",
    "        Technician.__init__(self, name, id, specialization)\n",
    "        self.team=[]\n",
    "    def add_employee(self, employee):\n",
    "        self.team.append(employee)\n",
    "    def get_team_info(self):\n",
    "        team_info = []\n",
    "        for employee in self.team:\n",
    "            team_info.append(employee.get_info())\n",
    "        return \"\\n\".join(team_info)\n",
    "    def manage_project(self):\n",
    "        return f'Имя: {self.name}'\n",
    "\n",
    "employee1 = Employee(\"Александр\", 1)\n",
    "manager1 = Manager(\"Максим\", 2, \"Информационные технологии\")\n",
    "technician1 = Technician(\"Варя\", 3, \"Разработчик ПО\")\n",
    "tech_manager1 = TechManager(\"Алекс\", 4, \"Разработка\", \"Программирование\")\n",
    "tech_manager1.add_employee(manager1)\n",
    "tech_manager1.add_employee(technician1)\n",
    "\n",
    "print(employee1.get_info())\n",
    "print(manager1.manage_project())\n",
    "print(technician1.perform_maintenance())\n",
    "print(tech_manager1.manage_project())\n",
    "print(tech_manager1.get_team_info())"
   ]
  },
  {
   "cell_type": "code",
   "execution_count": null,
   "id": "b7175a52-3de2-4b68-98e9-ec6611b42bd1",
   "metadata": {},
   "outputs": [],
   "source": []
  },
  {
   "cell_type": "code",
   "execution_count": null,
   "id": "350aedc2-68de-4af5-9fc1-febc42e076b0",
   "metadata": {},
   "outputs": [],
   "source": []
  }
 ],
 "metadata": {
  "kernelspec": {
   "display_name": "Python 3 (ipykernel)",
   "language": "python",
   "name": "python3"
  },
  "language_info": {
   "codemirror_mode": {
    "name": "ipython",
    "version": 3
   },
   "file_extension": ".py",
   "mimetype": "text/x-python",
   "name": "python",
   "nbconvert_exporter": "python",
   "pygments_lexer": "ipython3",
   "version": "3.12.4"
  }
 },
 "nbformat": 4,
 "nbformat_minor": 5
}
